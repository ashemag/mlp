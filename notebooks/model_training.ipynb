{
 "cells": [
  {
   "cell_type": "code",
   "execution_count": 1,
   "metadata": {},
   "outputs": [],
   "source": [
    "import sys\n",
    "import os\n",
    "sys.path.append('../mlp')\n",
    "from data_providers import MNISTDataProvider, ModifyDataProvider\n",
    "os.environ['MLP_DATA_DIR'] = '../data'\n",
    "import numpy as np"
   ]
  },
  {
   "cell_type": "code",
   "execution_count": 2,
   "metadata": {},
   "outputs": [],
   "source": [
    "from mlp.data_providers import MNISTDataProvider\n",
    "from mlp.models import MultipleLayerModel\n",
    "from mlp.layers import ReluLayer, AffineLayer\n",
    "from mlp.errors import CrossEntropySoftmaxError\n",
    "from mlp.initialisers import GlorotUniformInit, ConstantInit\n",
    "from mlp.learning_rules import MomentumLearningRule\n",
    "from mlp.optimisers import Optimiser\n",
    "import matplotlib.pyplot as plt\n",
    "import logging\n"
   ]
  },
  {
   "cell_type": "code",
   "execution_count": 3,
   "metadata": {},
   "outputs": [],
   "source": [
    "# train original model \n",
    "\n",
    "# Seed a random number generator\n",
    "seed = 31102016 \n",
    "rng = np.random.RandomState(seed)\n",
    "\n",
    "# Set up a logger object to print info about the training run to stdout\n",
    "logger = logging.getLogger()\n",
    "logger.setLevel(logging.INFO)\n",
    "logger.handlers = [logging.StreamHandler()]"
   ]
  },
  {
   "cell_type": "code",
   "execution_count": 4,
   "metadata": {},
   "outputs": [],
   "source": [
    "# test model \n",
    "\n",
    "# Probability of input being included in output in dropout layer\n",
    "incl_prob = 0.5\n",
    "\n",
    "input_dim, output_dim, hidden_dim = 784, 10, 125\n",
    "\n",
    "# Use Glorot initialisation scheme for weights and zero biases\n",
    "weights_init = GlorotUniformInit(rng=rng, gain=2.**0.5)\n",
    "biases_init = ConstantInit(0.)\n",
    "\n",
    "# Create three affine layer model with rectified linear non-linearities\n",
    "# and dropout layers before every affine layer\n",
    "model = MultipleLayerModel([\n",
    "    AffineLayer(input_dim, hidden_dim, weights_init, biases_init), \n",
    "    ReluLayer(),\n",
    "    AffineLayer(hidden_dim, output_dim, weights_init, biases_init)\n",
    "])\n",
    "\n",
    "# Multiclass classification therefore use cross-entropy + softmax error\n",
    "error = CrossEntropySoftmaxError()\n",
    "\n",
    "# Use a momentum learning rule - you could use an adaptive learning rule\n",
    "# implemented for the coursework here instead\n",
    "learning_rule = MomentumLearningRule(0.02, 0.9)\n",
    "# Monitor classification accuracy during training\n",
    "data_monitors={'acc': lambda y, t: (y.argmax(-1) == t.argmax(-1)).mean()}\n"
   ]
  },
  {
   "cell_type": "code",
   "execution_count": 5,
   "metadata": {},
   "outputs": [],
   "source": [
    "def train(model, error, learning_rule, train_data, valid_data, data_monitors):\n",
    "    optimiser = Optimiser(model, error, learning_rule, train_data, valid_data, data_monitors)\n",
    "    num_epochs = 2\n",
    "    stats_interval = 2\n",
    "    stats, keys, run_time = optimiser.train(num_epochs=num_epochs, stats_interval=stats_interval)\n",
    "    err_train = stats[len(stats) - 1, keys['error(train)']]\n",
    "    err_valid = stats[len(stats) - 1, keys['error(valid)']]\n",
    "    acc_train = stats[len(stats) - 1, keys['acc(train)']]\n",
    "    acc_valid = stats[len(stats) - 1, keys['error(valid)']]\n",
    "    return err_train, err_valid, acc_train, acc_valid\n",
    "    "
   ]
  },
  {
   "cell_type": "code",
   "execution_count": null,
   "metadata": {},
   "outputs": [],
   "source": []
  },
  {
   "cell_type": "code",
   "execution_count": 8,
   "metadata": {},
   "outputs": [],
   "source": [
    "def compare():\n",
    "    train_data = MNISTDataProvider('train')\n",
    "    valid_data = MNISTDataProvider('valid')\n",
    "    err_train, err_valid, acc_train, acc_valid = train(model, error, learning_rule, train_data, valid_data, data_monitors)\n",
    "    \n",
    "    inputs, targets = ModifyDataProvider().modify(0, .01, train_data.inputs, train_data.targets)\n",
    "    train_data.inputs = np.array(inputs)\n",
    "    train_data.targets = np.array(targets)\n",
    "    err_train_comp, err_valid_comp, acc_train_comp, acc_valid_comp = train(model, error, learning_rule, train_data, valid_data, data_monitors)\n",
    "\n",
    "    acc_valid_diff = ((acc_valid_comp - acc_valid) / float(acc_valid_comp)) * 100\n",
    "    acc_train_diff = ((acc_train_comp - acc_train) / float(acc_train_comp)) * 100\n",
    "    print(\"Training accuracy decreased by {0}%\".format(round(acc_train_diff, 2)))\n",
    "    print(\"Validation accuracy decreased by {0}%\".format(round(acc_valid_diff, 2)))\n",
    "\n",
    "    "
   ]
  },
  {
   "cell_type": "code",
   "execution_count": 9,
   "metadata": {},
   "outputs": [
    {
     "name": "stderr",
     "output_type": "stream",
     "text": [
      "Experiment Progress:   0%|          | 0/2 [00:00<?, ?it/s]\n",
      "  0%|          | 0/500 [00:00<?, ?it/s]\u001b[A\n",
      "Epoch Progress:   0%|          | 0/500 [00:00<?, ?it/s]\u001b[A\n",
      "Epoch Progress:  15%|█▌        | 77/500 [00:00<00:00, 768.21it/s]\u001b[A\n",
      "Epoch Progress:  30%|███       | 152/500 [00:00<00:00, 761.14it/s]\u001b[A\n",
      "Epoch Progress:  46%|████▌     | 229/500 [00:00<00:00, 762.29it/s]\u001b[A\n",
      "Epoch Progress:  62%|██████▏   | 309/500 [00:00<00:00, 771.51it/s]\u001b[A\n",
      "Epoch Progress:  77%|███████▋  | 386/500 [00:00<00:00, 768.83it/s]\u001b[A\n",
      "Epoch Progress:  92%|█████████▏| 459/500 [00:00<00:00, 754.50it/s]\u001b[A\n",
      "Experiment Progress:  50%|█████     | 1/2 [00:00<00:00,  1.27it/s]\u001b[A\n",
      "  0%|          | 0/500 [00:00<?, ?it/s]\u001b[A\n",
      "Epoch Progress:   0%|          | 0/500 [00:00<?, ?it/s]\u001b[A\n",
      "Epoch Progress:  14%|█▍        | 70/500 [00:00<00:00, 695.22it/s]\u001b[A\n",
      "Epoch Progress:  31%|███       | 153/500 [00:00<00:00, 729.35it/s]\u001b[A\n",
      "Epoch Progress:  46%|████▌     | 228/500 [00:00<00:00, 732.74it/s]\u001b[A\n",
      "Epoch Progress:  60%|██████    | 302/500 [00:00<00:00, 733.97it/s]\u001b[A\n",
      "Epoch Progress:  76%|███████▌  | 381/500 [00:00<00:00, 747.71it/s]\u001b[A\n",
      "Epoch Progress:  92%|█████████▏| 460/500 [00:00<00:00, 759.68it/s]\u001b[A\n",
      "Epoch Progress: 100%|██████████| 500/500 [00:00<00:00, 652.94it/s]\u001b[AEpoch 2: 0.8s to complete\n",
      "    error(train)=6.84e-02, acc(train)=9.82e-01, error(valid)=9.28e-02, acc(valid)=9.73e-01\n",
      "Experiment Progress: 100%|██████████| 2/2 [00:01<00:00,  1.12it/s]\n",
      "/Users/ashemagalhaes/miniconda3/envs/mlp2/lib/python3.6/site-packages/ipykernel_launcher.py:31: RuntimeWarning: Mean of empty slice.\n",
      "Experiment Progress:   0%|          | 0/2 [00:00<?, ?it/s]\n",
      "  0%|          | 0/500 [00:00<?, ?it/s]\u001b[A\n",
      "Epoch Progress:   0%|          | 0/500 [00:00<?, ?it/s]\u001b[A\n",
      "Epoch Progress:  14%|█▎        | 68/500 [00:00<00:00, 674.96it/s]\u001b[A\n",
      "Epoch Progress:  29%|██▊       | 143/500 [00:00<00:00, 694.96it/s]\u001b[A\n",
      "Epoch Progress:  44%|████▍     | 220/500 [00:00<00:00, 713.88it/s]\u001b[A\n",
      "Epoch Progress:  59%|█████▊    | 293/500 [00:00<00:00, 717.99it/s]\u001b[A\n",
      "Epoch Progress:  74%|███████▍  | 369/500 [00:00<00:00, 728.58it/s]\u001b[A\n",
      "Epoch Progress:  87%|████████▋ | 435/500 [00:00<00:00, 702.91it/s]\u001b[A\n",
      "Experiment Progress:  50%|█████     | 1/2 [00:00<00:00,  1.30it/s]\u001b[A\n",
      "  0%|          | 0/500 [00:00<?, ?it/s]\u001b[A\n",
      "Epoch Progress:   0%|          | 0/500 [00:00<?, ?it/s]\u001b[A\n",
      "Epoch Progress:  13%|█▎        | 64/500 [00:00<00:00, 638.48it/s]\u001b[A\n",
      "Epoch Progress:  27%|██▋       | 136/500 [00:00<00:00, 659.68it/s]\u001b[A\n",
      "Epoch Progress:  41%|████▏     | 207/500 [00:00<00:00, 673.70it/s]\u001b[A\n",
      "Epoch Progress:  56%|█████▋    | 282/500 [00:00<00:00, 694.70it/s]\u001b[A\n",
      "Epoch Progress:  71%|███████   | 356/500 [00:00<00:00, 706.70it/s]\u001b[A\n",
      "Epoch Progress:  87%|████████▋ | 433/500 [00:00<00:00, 722.71it/s]\u001b[A\n",
      "Epoch Progress: 100%|██████████| 500/500 [00:00<00:00, 666.22it/s]\u001b[AEpoch 2: 0.8s to complete\n",
      "    error(train)=nan, acc(train)=nan, error(valid)=1.05e-01, acc(valid)=9.69e-01\n",
      "Experiment Progress: 100%|██████████| 2/2 [00:01<00:00,  1.15it/s]"
     ]
    },
    {
     "name": "stdout",
     "output_type": "stream",
     "text": [
      "Training accuracy decreased by nan%\n",
      "Validation accuracy decreased by 11.61%\n"
     ]
    },
    {
     "name": "stderr",
     "output_type": "stream",
     "text": [
      "\n"
     ]
    }
   ],
   "source": [
    "compare()"
   ]
  },
  {
   "cell_type": "code",
   "execution_count": null,
   "metadata": {},
   "outputs": [],
   "source": []
  }
 ],
 "metadata": {
  "kernelspec": {
   "display_name": "Python 3",
   "language": "python",
   "name": "python3"
  },
  "language_info": {
   "codemirror_mode": {
    "name": "ipython",
    "version": 3
   },
   "file_extension": ".py",
   "mimetype": "text/x-python",
   "name": "python",
   "nbconvert_exporter": "python",
   "pygments_lexer": "ipython3",
   "version": "3.6.6"
  }
 },
 "nbformat": 4,
 "nbformat_minor": 2
}
